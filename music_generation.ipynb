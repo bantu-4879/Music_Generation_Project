{
 "cells": [
  {
   "cell_type": "code",
   "execution_count": 10,
   "metadata": {},
   "outputs": [],
   "source": [
    "# imports\n",
    "import numpy as np\n",
    "import tensorflow as tf"
   ]
  },
  {
   "cell_type": "code",
   "execution_count": 11,
   "metadata": {},
   "outputs": [],
   "source": [
    "import numpy as np"
   ]
  },
  {
   "cell_type": "code",
   "execution_count": 12,
   "metadata": {},
   "outputs": [],
   "source": [
    "# Batch Generation\n",
    "def get_batch(vectorized_songs, seq_length, batch_size):\n",
    "  \n",
    "  # the length of the vectorized songs string\n",
    "  n = vectorized_songs.shape[0] - 1\n",
    "\n",
    "  # randomly choose the starting indices for the examples in the training batch\n",
    "  idx = np.random.choice(n-seq_length, batch_size)\n",
    "\n",
    "  input_batch = [vectorized_songs[i : i+seq_length] for i in idx]\n",
    "  output_batch = [vectorized_songs[i+1 : i+seq_length+1] for i in idx]\n",
    "  \n",
    "\n",
    "  # x_batch, y_batch provide the true inputs and targets for network training\n",
    "  x_batch = np.reshape(input_batch, [batch_size, seq_length])\n",
    "  y_batch = np.reshape(output_batch, [batch_size, seq_length])\n",
    "  return x_batch, y_batch"
   ]
  },
  {
   "cell_type": "code",
   "execution_count": 13,
   "metadata": {},
   "outputs": [
    {
     "name": "stderr",
     "output_type": "stream",
     "text": [
      "WARNING:absl:At this time, the v2.11+ optimizer `tf.keras.optimizers.Adam` runs slowly on M1/M2 Macs, please use the legacy Keras optimizer instead, located at `tf.keras.optimizers.legacy.Adam`.\n",
      "WARNING:absl:There is a known slowdown when using v2.11+ Keras optimizers on M1/M2 Macs. Falling back to the legacy Keras optimizer, i.e., `tf.keras.optimizers.legacy.Adam`.\n"
     ]
    },
    {
     "name": "stdout",
     "output_type": "stream",
     "text": [
      "Model: \"sequential\"\n",
      "_________________________________________________________________\n",
      " Layer (type)                Output Shape              Param #   \n",
      "=================================================================\n",
      " embedding (Embedding)       (1, None, 128)            8192      \n",
      "                                                                 \n",
      " lstm (LSTM)                 (1, None, 128)            131584    \n",
      "                                                                 \n",
      " lstm_1 (LSTM)               (1, None, 256)            394240    \n",
      "                                                                 \n",
      " dense_3 (Dense)             (1, None, 1)              257       \n",
      "                                                                 \n",
      "=================================================================\n",
      "Total params: 534273 (2.04 MB)\n",
      "Trainable params: 534273 (2.04 MB)\n",
      "Non-trainable params: 0 (0.00 Byte)\n",
      "_________________________________________________________________\n"
     ]
    }
   ],
   "source": [
    "from tensorflow.keras.models import Sequential\n",
    "from tensorflow.keras.layers import Embedding, LSTM, Dense\n",
    "from tensorflow.keras.optimizers import Adagrad, Adam\n",
    "import numpy as np\n",
    "\n",
    "def build_audio_generation_model(batch_size, vocab_size, embedding_dim):\n",
    "    model = Sequential()\n",
    "\n",
    "    # Embedding layer\n",
    "    model.add(Embedding(input_dim=vocab_size, output_dim=embedding_dim, batch_input_shape=[batch_size, None]))\n",
    "\n",
    "    # LSTM layers\n",
    "    model.add(LSTM(units=128, return_sequences=True,recurrent_initializer='glorot_uniform', recurrent_activation='sigmoid', stateful=True,))\n",
    "    model.add(LSTM(units=256, return_sequences=True, recurrent_initializer='glorot_uniform', recurrent_activation='sigmoid', stateful=True,))\n",
    "    \n",
    "    # Dense layer for output\n",
    "    model.add(Dense(units=1, activation='linear'))  # Assuming regression output, change units to 1\n",
    "    model.compile(loss='mse', optimizer=Adam(5e-2))  # Use mean squared error for regression task\n",
    "\n",
    "    return model\n",
    "\n",
    "model = build_audio_generation_model(batch_size=1, vocab_size=64, embedding_dim=128)\n",
    "model.summary()"
   ]
  },
  {
   "cell_type": "code",
   "execution_count": 14,
   "metadata": {},
   "outputs": [
    {
     "ename": "NameError",
     "evalue": "name 'mfccs' is not defined",
     "output_type": "error",
     "traceback": [
      "\u001b[0;31m---------------------------------------------------------------------------\u001b[0m",
      "\u001b[0;31mNameError\u001b[0m                                 Traceback (most recent call last)",
      "\u001b[1;32m/Users/amankankriya/Documents/GitHub/Music_Generation_project/music_generation.ipynb Cell 5\u001b[0m line \u001b[0;36m4\n\u001b[1;32m      <a href='vscode-notebook-cell:/Users/amankankriya/Documents/GitHub/Music_Generation_project/music_generation.ipynb#X11sZmlsZQ%3D%3D?line=0'>1</a>\u001b[0m seq_length \u001b[39m=\u001b[39m \u001b[39m1000\u001b[39m\n\u001b[1;32m      <a href='vscode-notebook-cell:/Users/amankankriya/Documents/GitHub/Music_Generation_project/music_generation.ipynb#X11sZmlsZQ%3D%3D?line=1'>2</a>\u001b[0m batch_size \u001b[39m=\u001b[39m \u001b[39m1\u001b[39m\n\u001b[0;32m----> <a href='vscode-notebook-cell:/Users/amankankriya/Documents/GitHub/Music_Generation_project/music_generation.ipynb#X11sZmlsZQ%3D%3D?line=3'>4</a>\u001b[0m x_batch, y_batch \u001b[39m=\u001b[39m get_batch(mfccs, seq_length, batch_size)\n\u001b[1;32m      <a href='vscode-notebook-cell:/Users/amankankriya/Documents/GitHub/Music_Generation_project/music_generation.ipynb#X11sZmlsZQ%3D%3D?line=4'>5</a>\u001b[0m \u001b[39mprint\u001b[39m(x_batch\u001b[39m.\u001b[39mshape, y_batch\u001b[39m.\u001b[39mshape)\n\u001b[1;32m      <a href='vscode-notebook-cell:/Users/amankankriya/Documents/GitHub/Music_Generation_project/music_generation.ipynb#X11sZmlsZQ%3D%3D?line=5'>6</a>\u001b[0m model\u001b[39m.\u001b[39mfit(x_batch, y_batch, epochs\u001b[39m=\u001b[39m\u001b[39m1000\u001b[39m, batch_size\u001b[39m=\u001b[39mbatch_size)\n",
      "\u001b[0;31mNameError\u001b[0m: name 'mfccs' is not defined"
     ]
    }
   ],
   "source": [
    "seq_length = 1000\n",
    "batch_size = 1\n",
    "\n",
    "x_batch, y_batch = get_batch(mfccs, seq_length, batch_size)\n",
    "print(x_batch.shape, y_batch.shape)\n",
    "model.fit(x_batch, y_batch, epochs=1000, batch_size=batch_size)"
   ]
  },
  {
   "cell_type": "code",
   "execution_count": null,
   "metadata": {},
   "outputs": [],
   "source": [
    "def generate_mfcc():\n",
    "    x_test, y_test = get_batch(mfccs, seq_length= 1000, batch_size=1)\n",
    "    predictions = model.predict(x_test)\n",
    "    return y_test"
   ]
  },
  {
   "cell_type": "code",
   "execution_count": null,
   "metadata": {},
   "outputs": [],
   "source": [
    "prec = generate_mfcc()\n",
    "prec.shape"
   ]
  },
  {
   "cell_type": "code",
   "execution_count": null,
   "metadata": {},
   "outputs": [],
   "source": [
    "prec = generate_mfcc()\n",
    "waveform = librosa.feature.inverse.mfcc_to_audio(prec)\n",
    "import IPython.display as ipd\n",
    "ipd.Audio(waveform, rate=sampling_rate)\n"
   ]
  },
  {
   "cell_type": "code",
   "execution_count": null,
   "metadata": {},
   "outputs": [],
   "source": []
  }
 ],
 "metadata": {
  "kernelspec": {
   "display_name": "Python 3",
   "language": "python",
   "name": "python3"
  },
  "language_info": {
   "codemirror_mode": {
    "name": "ipython",
    "version": 3
   },
   "file_extension": ".py",
   "mimetype": "text/x-python",
   "name": "python",
   "nbconvert_exporter": "python",
   "pygments_lexer": "ipython3",
   "version": "3.9.6"
  }
 },
 "nbformat": 4,
 "nbformat_minor": 2
}
