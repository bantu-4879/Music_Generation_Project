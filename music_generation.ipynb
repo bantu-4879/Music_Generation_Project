{
 "cells": [
  {
   "cell_type": "code",
   "execution_count": 1,
   "metadata": {},
   "outputs": [],
   "source": [
    "# imports\n",
    "import numpy as np\n",
    "import tensorflow as tf"
   ]
  },
  {
   "cell_type": "code",
   "execution_count": null,
   "metadata": {},
   "outputs": [],
   "source": [
    "import numpy as np"
   ]
  },
  {
   "cell_type": "code",
   "execution_count": null,
   "metadata": {},
   "outputs": [],
   "source": [
    "# Batch Generation\n",
    "def get_batch(vectorized_songs, seq_length, batch_size):\n",
    "  \n",
    "  # the length of the vectorized songs string\n",
    "  n = vectorized_songs.shape[0] - 1\n",
    "\n",
    "  # randomly choose the starting indices for the examples in the training batch\n",
    "  idx = np.random.choice(n-seq_length, batch_size)\n",
    "\n",
    "  input_batch = [vectorized_songs[i : i+seq_length] for i in idx]\n",
    "  output_batch = [vectorized_songs[i+1 : i+seq_length+1] for i in idx]\n",
    "  \n",
    "\n",
    "  # x_batch, y_batch provide the true inputs and targets for network training\n",
    "  x_batch = np.reshape(input_batch, [batch_size, seq_length])\n",
    "  y_batch = np.reshape(output_batch, [batch_size, seq_length])\n",
    "  return x_batch, y_batch"
   ]
  },
  {
   "cell_type": "code",
   "execution_count": null,
   "metadata": {},
   "outputs": [],
   "source": [
    "from tensorflow.keras.models import Sequential\n",
    "from tensorflow.keras.layers import Embedding, LSTM, Dense\n",
    "from tensorflow.keras.optimizers import Adagrad, Adam\n",
    "import numpy as np\n",
    "\n",
    "def build_audio_generation_model(batch_size, vocab_size, embedding_dim):\n",
    "    model = Sequential()\n",
    "\n",
    "    # Embedding layer\n",
    "    model.add(Embedding(input_dim=vocab_size, output_dim=embedding_dim, batch_input_shape=[batch_size, None]))\n",
    "\n",
    "    # LSTM layers\n",
    "    model.add(LSTM(units=128, return_sequences=True,recurrent_initializer='glorot_uniform', recurrent_activation='sigmoid', stateful=True,))\n",
    "    model.add(LSTM(units=256, return_sequences=True, recurrent_initializer='glorot_uniform', recurrent_activation='sigmoid', stateful=True,))\n",
    "    \n",
    "    # Dense layer for output\n",
    "    model.add(Dense(units=1, activation='linear'))  # Assuming regression output, change units to 1\n",
    "    model.compile(loss='mse', optimizer=Adam(5e-2))  # Use mean squared error for regression task\n",
    "\n",
    "    return model\n",
    "\n",
    "model = build_audio_generation_model(batch_size=1, vocab_size=64, embedding_dim=128)\n",
    "model.summary()"
   ]
  },
  {
   "cell_type": "code",
   "execution_count": null,
   "metadata": {},
   "outputs": [],
   "source": [
    "seq_length = 1000\n",
    "batch_size = 1\n",
    "\n",
    "x_batch, y_batch = get_batch(mfccs, seq_length, batch_size)\n",
    "print(x_batch.shape, y_batch.shape)\n",
    "model.fit(x_batch, y_batch, epochs=1000, batch_size=batch_size)"
   ]
  },
  {
   "cell_type": "code",
   "execution_count": null,
   "metadata": {},
   "outputs": [],
   "source": [
    "def generate_mfcc():\n",
    "    x_test, y_test = get_batch(mfccs, seq_length= 1000, batch_size=1)\n",
    "    predictions = model.predict(x_test)\n",
    "    return y_test"
   ]
  },
  {
   "cell_type": "code",
   "execution_count": null,
   "metadata": {},
   "outputs": [],
   "source": [
    "prec = generate_mfcc()\n",
    "prec.shape"
   ]
  },
  {
   "cell_type": "code",
   "execution_count": null,
   "metadata": {},
   "outputs": [],
   "source": [
    "prec = generate_mfcc()\n",
    "waveform = librosa.feature.inverse.mfcc_to_audio(prec)\n",
    "import IPython.display as ipd\n",
    "ipd.Audio(waveform, rate=sampling_rate)\n"
   ]
  },
  {
   "cell_type": "code",
   "execution_count": null,
   "metadata": {},
   "outputs": [],
   "source": []
  }
 ],
 "metadata": {
  "kernelspec": {
   "display_name": "Python 3",
   "language": "python",
   "name": "python3"
  },
  "language_info": {
   "codemirror_mode": {
    "name": "ipython",
    "version": 3
   },
   "file_extension": ".py",
   "mimetype": "text/x-python",
   "name": "python",
   "nbconvert_exporter": "python",
   "pygments_lexer": "ipython3",
   "version": "3.9.6"
  }
 },
 "nbformat": 4,
 "nbformat_minor": 2
}
